{
 "cells": [
  {
   "cell_type": "code",
   "execution_count": 42,
   "id": "79271c2a-1005-4068-b688-01b39981dcff",
   "metadata": {},
   "outputs": [],
   "source": [
    "import tensorflow as tf\n",
    "from tensorflow import keras\n",
    "import numpy as np\n",
    "import matplotlib.pyplot as plt"
   ]
  },
  {
   "cell_type": "code",
   "execution_count": 37,
   "id": "ecbe017c-873e-44fe-8819-dd94f7ef3e04",
   "metadata": {},
   "outputs": [],
   "source": [
    "# Dataset\n",
    "mnist = keras.datasets.fashion_mnist\n",
    "class_name = ['T-shart/top', 'Trouser', 'Pullover', 'Dress', 'Coat', 'Sandal', 'Shirt', 'Sneaker', 'Bag', 'Ankle boot']\n",
    "(train_images, train_labels), (test_images, test_labels) = mnist.load_data()"
   ]
  },
  {
   "cell_type": "code",
   "execution_count": 38,
   "id": "d10d1161-6d70-4136-9781-cc3bf12274fc",
   "metadata": {},
   "outputs": [],
   "source": [
    "# 데이터 전처리\n",
    "# image를 0~1 사이 값으로 만들기 위해 255로 나눔\n",
    "train_image = train_images.astype(np.float32) /255.0\n",
    "train_image = test_images.astype(np.float32) /255.0\n",
    "\n",
    "# one-hot Encoding\n",
    "train_labels = keras.utils.to_categorical(train_labels, 10)\n",
    "test_labels = keras.utils.to_categorical(test_labels, 10)"
   ]
  },
  {
   "cell_type": "code",
   "execution_count": 39,
   "id": "0956f6f1-7402-4981-832a-b3072af6a04b",
   "metadata": {},
   "outputs": [],
   "source": [
    "# Dataset 만들기\n",
    "# shuffle : 셔플을 하지 않으면 다음에 들어갈 데이터가 중복되어 들어갈 수 있음, epochs 할 때 shuffle을 사용\n",
    "# batch : 한번에 여러개 이미지를 넣어주는데 몇개씩 넣을 것인지 설정\n",
    "train_dataset = tf.data.Dataset.from_tensor_slices((train_images, train_labels)).shuffle(buffer_size=100000).batch(64)\n",
    "test_dataset=tf.data.Dataset.from_tensor_slices((test_images, test_labels)).batch(64)"
   ]
  },
  {
   "cell_type": "code",
   "execution_count": 12,
   "id": "4ac6b3f5-95c7-4862-a763-60d635dd7927",
   "metadata": {},
   "outputs": [],
   "source": [
    "# 텐서플로우에서는 3가지 모델 작성방법을 제공\n",
    "# 가장 간단하고 쉽게 만들 수 있는 방법 -> Keras Sequential API를 사용\n",
    "\n",
    "def create_seq_model() :\n",
    "    model = keras.Sequential()\n",
    "    model.add(keras.layers.Flatten(input_shape=(28, 28)))\n",
    "    model.add(keras.layers.Dense(128, activation='relu'))\n",
    "    model.add(keras.layers.Dropout(0.2))\n",
    "    model.add(keras.layers.Dense(10, activation='softmax'))\n",
    "    return model"
   ]
  },
  {
   "cell_type": "code",
   "execution_count": 13,
   "id": "d8838b1c-31fc-4904-80aa-d8f37a7ecd05",
   "metadata": {},
   "outputs": [],
   "source": [
    "seq_model = create_seq_model()"
   ]
  },
  {
   "cell_type": "code",
   "execution_count": 14,
   "id": "e019e322-cdcb-4422-bc93-ee6e6f4cc6e6",
   "metadata": {},
   "outputs": [
    {
     "name": "stdout",
     "output_type": "stream",
     "text": [
      "Model: \"sequential_2\"\n",
      "_________________________________________________________________\n",
      " Layer (type)                Output Shape              Param #   \n",
      "=================================================================\n",
      " flatten_1 (Flatten)         (None, 784)               0         \n",
      "                                                                 \n",
      " dense (Dense)               (None, 128)               100480    \n",
      "                                                                 \n",
      " dropout (Dropout)           (None, 128)               0         \n",
      "                                                                 \n",
      " dense_1 (Dense)             (None, 10)                1290      \n",
      "                                                                 \n",
      "=================================================================\n",
      "Total params: 101,770\n",
      "Trainable params: 101,770\n",
      "Non-trainable params: 0\n",
      "_________________________________________________________________\n"
     ]
    }
   ],
   "source": [
    "seq_model.summary()"
   ]
  },
  {
   "cell_type": "code",
   "execution_count": 18,
   "id": "ffa48993-6cdb-456f-88df-580864c0a4e6",
   "metadata": {},
   "outputs": [],
   "source": [
    "# Keras Functional API 사용\n",
    "# Sequential은 쌓이는 구조만 모델을 생성할 수 있기 때문에 다양한 가지치기와 같은 모델 레이어를 생성하려면\n",
    "# create_func_model과 같은 형태로 생성하여 사용\n",
    "\n",
    "def create_func_model() :\n",
    "    inputs = keras.Input(shape=(28, 28))\n",
    "    flatten = keras.layers.Flatten()(inputs)\n",
    "    dense = keras.layers.Dense(128, activation='relu')(flatten)\n",
    "    drop = keras.layers.Dropout(0.2)(dense)\n",
    "    outputs = keras.layers.Dense(10, activation='softmax')(drop)\n",
    "    model = keras.Model(inputs=inputs, outputs=outputs)\n",
    "    return model"
   ]
  },
  {
   "cell_type": "code",
   "execution_count": 19,
   "id": "9d8be57e-ba95-4516-86dd-73e6af92e075",
   "metadata": {},
   "outputs": [],
   "source": [
    "func_model = create_func_model()"
   ]
  },
  {
   "cell_type": "code",
   "execution_count": 20,
   "id": "9b8f192f-19c7-43f1-94e0-f43f14b35c49",
   "metadata": {},
   "outputs": [
    {
     "name": "stdout",
     "output_type": "stream",
     "text": [
      "Model: \"model\"\n",
      "_________________________________________________________________\n",
      " Layer (type)                Output Shape              Param #   \n",
      "=================================================================\n",
      " input_1 (InputLayer)        [(None, 28, 28)]          0         \n",
      "                                                                 \n",
      " flatten_2 (Flatten)         (None, 784)               0         \n",
      "                                                                 \n",
      " dense_2 (Dense)             (None, 128)               100480    \n",
      "                                                                 \n",
      " dropout_1 (Dropout)         (None, 128)               0         \n",
      "                                                                 \n",
      " dense_3 (Dense)             (None, 10)                1290      \n",
      "                                                                 \n",
      "=================================================================\n",
      "Total params: 101,770\n",
      "Trainable params: 101,770\n",
      "Non-trainable params: 0\n",
      "_________________________________________________________________\n"
     ]
    }
   ],
   "source": [
    "func_model.summary()"
   ]
  },
  {
   "cell_type": "code",
   "execution_count": 29,
   "id": "1fe6edeb-a7a9-4911-b35f-b53c09855edc",
   "metadata": {},
   "outputs": [],
   "source": [
    "# keras.Model을 상속받아 사용\n",
    "# 파이토치가 주로 사용하는 방법\n",
    "\n",
    "class SubClassModel(keras.Model) :\n",
    "    def __init__(self) :\n",
    "        super(SubClassModel, self).__init__()\n",
    "        self.flatten = keras.layers.Flatten(input_shape=(28, 28))\n",
    "        self.dense1 = keras.layers.Dense(128, activation='relu')\n",
    "        self.drop = keras.layers.Dropout(0.2)\n",
    "        self.dense2 = keras.layers.Dense(10, activation='softmax')\n",
    "        \n",
    "    def call(self, x, training=False) : # 자동으로 호출되는 함수 - override\n",
    "        x = self.flatten(x)\n",
    "        x = self.dense1(x)\n",
    "        x = self.drop(x)\n",
    "        return self.dense2(x)"
   ]
  },
  {
   "cell_type": "code",
   "execution_count": 30,
   "id": "b1d80fa0-cf00-4aef-a44c-e2d49eff3d33",
   "metadata": {},
   "outputs": [],
   "source": [
    "subclass_model = SubClassModel()"
   ]
  },
  {
   "cell_type": "code",
   "execution_count": 31,
   "id": "58c28cc8-b132-4b0d-804e-7359a165af87",
   "metadata": {},
   "outputs": [
    {
     "name": "stdout",
     "output_type": "stream",
     "text": [
      "Model: \"sub_class_model_1\"\n",
      "_________________________________________________________________\n",
      " Layer (type)                Output Shape              Param #   \n",
      "=================================================================\n",
      " flatten_4 (Flatten)         multiple                  0         \n",
      "                                                                 \n",
      " dense_6 (Dense)             multiple                  100480    \n",
      "                                                                 \n",
      " dropout_3 (Dropout)         multiple                  0         \n",
      "                                                                 \n",
      " dense_7 (Dense)             multiple                  1290      \n",
      "                                                                 \n",
      "=================================================================\n",
      "Total params: 101,770\n",
      "Trainable params: 101,770\n",
      "Non-trainable params: 0\n",
      "_________________________________________________________________\n"
     ]
    }
   ],
   "source": [
    "inputs = tf.zeros((1, 28, 28))\n",
    "subclass_model(inputs)\n",
    "subclass_model.summary()"
   ]
  },
  {
   "cell_type": "code",
   "execution_count": 40,
   "id": "b241bf4a-dfd1-42af-ab09-e5a41cd91724",
   "metadata": {},
   "outputs": [],
   "source": [
    "# Keras API 사용하여 학습\n",
    "learning_rate = 0.001\n",
    "seq_model.compile(optimizer=tf.keras.optimizers.Adam(learning_rate), loss='categorical_crossentropy', metrics=['accuracy']) # 결과가 숫자로 나올경우"
   ]
  },
  {
   "cell_type": "code",
   "execution_count": 41,
   "id": "7e02fcdf-4f65-4f84-81a8-d6ea4bf467d1",
   "metadata": {},
   "outputs": [
    {
     "name": "stdout",
     "output_type": "stream",
     "text": [
      "Epoch 1/10\n",
      "938/938 [==============================] - 9s 8ms/step - loss: 3.1150 - accuracy: 0.6017 - val_loss: 0.8761 - val_accuracy: 0.6825\n",
      "Epoch 2/10\n",
      "938/938 [==============================] - 7s 8ms/step - loss: 0.8798 - accuracy: 0.6711 - val_loss: 0.6551 - val_accuracy: 0.7824\n",
      "Epoch 3/10\n",
      "938/938 [==============================] - 7s 7ms/step - loss: 0.7743 - accuracy: 0.7089 - val_loss: 0.6275 - val_accuracy: 0.7812\n",
      "Epoch 4/10\n",
      "938/938 [==============================] - 7s 7ms/step - loss: 0.7261 - accuracy: 0.7325 - val_loss: 0.6136 - val_accuracy: 0.7900\n",
      "Epoch 5/10\n",
      "938/938 [==============================] - 7s 7ms/step - loss: 0.6930 - accuracy: 0.7475 - val_loss: 0.5747 - val_accuracy: 0.8001\n",
      "Epoch 6/10\n",
      "938/938 [==============================] - 7s 8ms/step - loss: 0.6803 - accuracy: 0.7546 - val_loss: 0.5703 - val_accuracy: 0.8142\n",
      "Epoch 7/10\n",
      "938/938 [==============================] - 7s 7ms/step - loss: 0.6608 - accuracy: 0.7622 - val_loss: 0.5663 - val_accuracy: 0.7507\n",
      "Epoch 8/10\n",
      "938/938 [==============================] - 7s 7ms/step - loss: 0.6362 - accuracy: 0.7729 - val_loss: 0.5173 - val_accuracy: 0.8272\n",
      "Epoch 9/10\n",
      "938/938 [==============================] - 7s 7ms/step - loss: 0.6256 - accuracy: 0.7758 - val_loss: 0.5283 - val_accuracy: 0.8211\n",
      "Epoch 10/10\n",
      "938/938 [==============================] - 7s 7ms/step - loss: 0.6124 - accuracy: 0.7810 - val_loss: 0.5486 - val_accuracy: 0.8221\n"
     ]
    }
   ],
   "source": [
    "hist = seq_model.fit(train_dataset, epochs=10, validation_data=test_dataset)"
   ]
  },
  {
   "cell_type": "code",
   "execution_count": 50,
   "id": "acf6acda-9ac6-4ff3-95f9-96e1e6bef68c",
   "metadata": {},
   "outputs": [
    {
     "data": {
      "image/png": "[encoded data removed]",
      "text/plain": [
       "<Figure size 432x288 with 1 Axes>"
      ]
     },
     "metadata": {
      "needs_background": "light"
     },
     "output_type": "display_data"
    }
   ],
   "source": [
    "plt.plot(hist.history['loss'], 'b-', label='loss')\n",
    "plt.plot(hist.history['val_loss'], 'r--', label='val_loss')\n",
    "plt.title('Model Accuracy')\n",
    "plt.xlabel('Epochs')\n",
    "plt.ylabel('Loss')\n",
    "plt.legend()\n",
    "plt.grid()\n",
    "plt.show()"
   ]
  },
  {
   "cell_type": "code",
   "execution_count": 51,
   "id": "d77610ab-ff04-481e-808f-5614e2cf99aa",
   "metadata": {},
   "outputs": [
    {
     "data": {
      "image/png": "[encoded data removed]",
      "text/plain": [
       "<Figure size 432x288 with 1 Axes>"
      ]
     },
     "metadata": {
      "needs_background": "light"
     },
     "output_type": "display_data"
    }
   ],
   "source": [
    "plt.plot(hist.history['accuracy'], 'b-', label='acc')\n",
    "plt.plot(hist.history['val_accuracy'], 'r--', label='val_acc')\n",
    "plt.title('Model Accuracy')\n",
    "plt.xlabel('Epochs')\n",
    "plt.ylabel('Accuracy')\n",
    "plt.legend()\n",
    "plt.grid()\n",
    "plt.show()"
   ]
  },
  {
   "cell_type": "markdown",
   "id": "f2695a4c-1c9e-4217-bc46-1a053a4dcda8",
   "metadata": {},
   "source": [
    "# Model 저장하고 불러오기\n",
    "- ## 학습된 결과를 저장해놓고 사용, 또는 이어서 학습하기 위해 모델을 저장하고 불러오는 방법"
   ]
  },
  {
   "cell_type": "code",
   "execution_count": 52,
   "id": "422f6bb1-fa9d-4bf1-ac50-127ec70d87a3",
   "metadata": {},
   "outputs": [],
   "source": [
    "seq_model.save_weights('seq_model.ckpt')"
   ]
  },
  {
   "cell_type": "code",
   "execution_count": 56,
   "id": "830fea17-d18d-4f0b-a2af-0be07cfed743",
   "metadata": {},
   "outputs": [],
   "source": [
    "# 새로운 모델 생성\n",
    "seq_model_2 = create_seq_model()\n",
    "seq_model_2.compile(optimizer=tf.keras.optimizers.Adam(learning_rate), loss='categorical_crossentropy', metrics=['accuracy'])"
   ]
  },
  {
   "cell_type": "code",
   "execution_count": 57,
   "id": "20f98a6f-1c8a-441c-b27b-8189f1aca840",
   "metadata": {},
   "outputs": [
    {
     "name": "stdout",
     "output_type": "stream",
     "text": [
      "157/157 [==============================] - 1s 6ms/step - loss: 198.0069 - accuracy: 0.1099\n"
     ]
    },
    {
     "data": {
      "text/plain": [
       "[198.00689697265625, 0.10990000516176224]"
      ]
     },
     "execution_count": 57,
     "metadata": {},
     "output_type": "execute_result"
    }
   ],
   "source": [
    "seq_model_2.evaluate(test_dataset)"
   ]
  },
  {
   "cell_type": "code",
   "execution_count": 58,
   "id": "acc62125-47a3-48e7-ab48-e7a139a50a03",
   "metadata": {},
   "outputs": [
    {
     "data": {
      "text/plain": [
       "<tensorflow.python.training.tracking.util.CheckpointLoadStatus at 0x11eb8fbe0>"
      ]
     },
     "execution_count": 58,
     "metadata": {},
     "output_type": "execute_result"
    }
   ],
   "source": [
    "seq_model_2.load_weights('seq_model.ckpt')"
   ]
  },
  {
   "cell_type": "code",
   "execution_count": 59,
   "id": "a6157371-d2b9-4576-a3d5-298a6fc8070a",
   "metadata": {},
   "outputs": [
    {
     "name": "stdout",
     "output_type": "stream",
     "text": [
      "157/157 [==============================] - 1s 6ms/step - loss: 0.5486 - accuracy: 0.8221\n"
     ]
    },
    {
     "data": {
      "text/plain": [
       "[0.5486211776733398, 0.822100043296814]"
      ]
     },
     "execution_count": 59,
     "metadata": {},
     "output_type": "execute_result"
    }
   ],
   "source": [
    "seq_model_2.evaluate(test_dataset)"
   ]
  },
  {
   "cell_type": "markdown",
   "id": "58db70f2-a44f-46a4-a853-c34cb87fb2d3",
   "metadata": {},
   "source": [
    "- ## Model 전체를 저장하고 불러오기"
   ]
  },
  {
   "cell_type": "code",
   "execution_count": 60,
   "id": "51b0bf26-d1c0-4ec0-a498-928f1111f6d3",
   "metadata": {},
   "outputs": [
    {
     "name": "stdout",
     "output_type": "stream",
     "text": [
      "INFO:tensorflow:Assets written to: seq_model/assets\n"
     ]
    }
   ],
   "source": [
    "seq_model.save('seq_model')"
   ]
  },
  {
   "cell_type": "code",
   "execution_count": 61,
   "id": "19a77441-a57d-4a64-88c4-6c6a3f1f65df",
   "metadata": {},
   "outputs": [],
   "source": [
    "seq_model_3 = keras.models.load_model('seq_model')"
   ]
  },
  {
   "cell_type": "code",
   "execution_count": 62,
   "id": "b9fc6ba2-fc37-42bc-bda5-8fd1e868fc9e",
   "metadata": {},
   "outputs": [
    {
     "name": "stdout",
     "output_type": "stream",
     "text": [
      "157/157 [==============================] - 1s 6ms/step - loss: 0.5486 - accuracy: 0.8221\n"
     ]
    },
    {
     "data": {
      "text/plain": [
       "[0.5486211776733398, 0.822100043296814]"
      ]
     },
     "execution_count": 62,
     "metadata": {},
     "output_type": "execute_result"
    }
   ],
   "source": [
    "seq_model_3.evaluate(test_dataset)"
   ]
  },
  {
   "cell_type": "code",
   "execution_count": null,
   "id": "113231b4-97d6-4ba2-85a9-24d3bfdf0686",
   "metadata": {},
   "outputs": [],
   "source": []
  }
 ],
 "metadata": {
  "kernelspec": {
   "display_name": "Python 3.9.7 64-bit ('env_tf': conda)",
   "language": "python",
   "name": "python397jvsc74a57bd0f72a1ef466b0f338a7674de6f52613c6d1f26f697a0d0c89ff00ac54a73b9d39"
  },
  "language_info": {
   "codemirror_mode": {
    "name": "ipython",
    "version": 3
   },
   "file_extension": ".py",
   "mimetype": "text/x-python",
   "name": "python",
   "nbconvert_exporter": "python",
   "pygments_lexer": "ipython3",
   "version": "3.9.7"
  }
 },
 "nbformat": 4,
 "nbformat_minor": 5
}
