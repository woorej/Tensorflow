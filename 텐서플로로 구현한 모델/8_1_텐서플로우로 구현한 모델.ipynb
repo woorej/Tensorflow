{
 "cells": [
  {
   "cell_type": "code",
   "execution_count": 26,
   "id": "42196769-6ea8-4ca7-92f9-f69b8a769e13",
   "metadata": {},
   "outputs": [],
   "source": [
    "import tensorflow as tf\n",
    "from tensorflow import keras\n",
    "import numpy as np\n",
    "import matplotlib.pyplot as plt"
   ]
  },
  {
   "cell_type": "code",
   "execution_count": 27,
   "id": "74af9155-36e6-467e-8637-e697636314b8",
   "metadata": {},
   "outputs": [],
   "source": [
    "# 손글씨 숫자 이미지 데이터셋\n",
    "mnist = keras.datasets.mnist\n",
    "(x_train, y_train), (x_test, y_test) = mnist.load_data()\n",
    "# x_train, x_test : 손글씨 숫자 이미지\n",
    "# y_train, y_test : 이미지가 의미하는 숫자"
   ]
  },
  {
   "cell_type": "code",
   "execution_count": 28,
   "id": "1db72efa-f1f7-42c4-82a8-43a8edc09959",
   "metadata": {},
   "outputs": [],
   "source": [
    "# 손 글씨 숫자 이미지 데이터는 0~255사이의 값을 가짐\n",
    "# 모델 훈련에 사용하기 전에 0~1사이의 범위를 갖도록 변경\n",
    "x_train, x_test = x_train / 255.0, x_test / 255.0"
   ]
  },
  {
   "cell_type": "code",
   "execution_count": 29,
   "id": "9bb3e78b-6a89-407d-9bb7-b63fb68b95c2",
   "metadata": {},
   "outputs": [],
   "source": [
    "# Model 생성\n",
    "model = tf.keras.models.Sequential([\n",
    "    # 크기 28*28의 배열을 입력받아 1차원 배열로 변환\n",
    "    tf.keras.layers.Flatten(input_shape=(28, 28)),\n",
    "    # 히든레이어의 노드 갯수는 128개, 활성화 함수로 relu 사용\n",
    "    tf.keras.layers.Dense(128, activation='relu'),\n",
    "    # 오버피팅 방지, 이전 레이어의 출력을 20% 섞음\n",
    "    tf.keras.layers.Dropout(0.2),\n",
    "    # 출력 레이어의 노드개수를 10개로 설정, 활성화 함수 softmax 사용\n",
    "    tf.keras.layers.Dense(10, activation='softmax')\n",
    "])\n",
    "\n",
    "model.compile(optimizer='adam', loss='sparse_categorical_crossentropy', metrics=['accuracy'])"
   ]
  },
  {
   "cell_type": "code",
   "execution_count": 30,
   "id": "8893f3cd-d86e-4702-8cac-616d05974102",
   "metadata": {},
   "outputs": [
    {
     "name": "stdout",
     "output_type": "stream",
     "text": [
      "Epoch 1/10\n",
      "1875/1875 [==============================] - 10s 4ms/step - loss: 0.2873 - accuracy: 0.9165\n",
      "Epoch 2/10\n",
      "1875/1875 [==============================] - 7s 4ms/step - loss: 0.1349 - accuracy: 0.9600\n",
      "Epoch 3/10\n",
      "1875/1875 [==============================] - 8s 4ms/step - loss: 0.1002 - accuracy: 0.9696\n",
      "Epoch 4/10\n",
      "1875/1875 [==============================] - 7s 4ms/step - loss: 0.0812 - accuracy: 0.9746\n",
      "Epoch 5/10\n",
      "1875/1875 [==============================] - 7s 4ms/step - loss: 0.0689 - accuracy: 0.9783\n",
      "Epoch 6/10\n",
      "1875/1875 [==============================] - 7s 4ms/step - loss: 0.0572 - accuracy: 0.9817\n",
      "Epoch 7/10\n",
      "1875/1875 [==============================] - 7s 4ms/step - loss: 0.0513 - accuracy: 0.9831\n",
      "Epoch 8/10\n",
      "1875/1875 [==============================] - 7s 4ms/step - loss: 0.0455 - accuracy: 0.9846\n",
      "Epoch 9/10\n",
      "1875/1875 [==============================] - 8s 4ms/step - loss: 0.0409 - accuracy: 0.9868\n",
      "Epoch 10/10\n",
      "1875/1875 [==============================] - 8s 4ms/step - loss: 0.0374 - accuracy: 0.9878\n",
      "313/313 [==============================] - 1s 4ms/step - loss: 0.0807 - accuracy: 0.9776\n"
     ]
    },
    {
     "data": {
      "text/plain": [
       "[0.08069777488708496, 0.9776000380516052]"
      ]
     },
     "execution_count": 30,
     "metadata": {},
     "output_type": "execute_result"
    }
   ],
   "source": [
    "# Training\n",
    "model.fit(x_train, y_train, epochs=10)\n",
    "model.evaluate(x_test, y_test)"
   ]
  },
  {
   "cell_type": "code",
   "execution_count": 31,
   "id": "9c88afe4-2c3c-40a6-99f5-c42f0df3ed1a",
   "metadata": {},
   "outputs": [],
   "source": [
    "# x_train 랜덤한 가격을 추출\n",
    "import numpy as np\n",
    "import matplotlib.pyplot as plt"
   ]
  },
  {
   "cell_type": "code",
   "execution_count": 32,
   "id": "db4fe6d3-e823-4074-9cf7-881301fba59c",
   "metadata": {},
   "outputs": [],
   "source": [
    "idx = np.random.randint(len(x_train))\n",
    "image = x_train[idx]"
   ]
  },
  {
   "cell_type": "code",
   "execution_count": 33,
   "id": "968ce1b3-bb8c-47ee-bc7b-dc31dfb07e43",
   "metadata": {},
   "outputs": [
    {
     "data": {
      "text/plain": [
       "<function matplotlib.pyplot.show(close=None, block=None)>"
      ]
     },
     "execution_count": 33,
     "metadata": {},
     "output_type": "execute_result"
    },
    {
     "data": {
      "image/png": "[encoded data removed]",
      "text/plain": [
       "<Figure size 432x288 with 1 Axes>"
      ]
     },
     "metadata": {
      "needs_background": "light"
     },
     "output_type": "display_data"
    }
   ],
   "source": [
    "# image를 확인\n",
    "plt.imshow(image, cmap='gray')\n",
    "plt.title(y_train[idx])\n",
    "plt.show"
   ]
  },
  {
   "cell_type": "code",
   "execution_count": 34,
   "id": "7e75e3ee-db79-4212-abb5-d259fb99e82d",
   "metadata": {},
   "outputs": [],
   "source": [
    "import os\n",
    "from PIL import Image\n",
    "import numpy as np"
   ]
  },
  {
   "cell_type": "code",
   "execution_count": 44,
   "id": "672d5614-1389-4f9c-bd95-f4c343492df0",
   "metadata": {},
   "outputs": [
    {
     "name": "stdout",
     "output_type": "stream",
     "text": [
      "/Users/woojaejoo/Code/파이썬으로 만드는 인공지능 코드/강남 IT\n",
      "/Users/woojaejoo/Code/파이썬으로 만드는 인공지능 코드/강남 IT/image_3.png\n"
     ]
    },
    {
     "data": {
      "image/png": "[encoded data removed]",
      "text/plain": [
       "<Figure size 432x288 with 1 Axes>"
      ]
     },
     "metadata": {
      "needs_background": "light"
     },
     "output_type": "display_data"
    },
    {
     "name": "stdout",
     "output_type": "stream",
     "text": [
      "처음 : (28, 28, 3)\n"
     ]
    },
    {
     "data": {
      "image/png": "[encoded data removed]",
      "text/plain": [
       "<Figure size 432x288 with 1 Axes>"
      ]
     },
     "metadata": {
      "needs_background": "light"
     },
     "output_type": "display_data"
    },
    {
     "name": "stdout",
     "output_type": "stream",
     "text": [
      "gray scale 적용 : (28, 28)\n"
     ]
    },
    {
     "data": {
      "image/png": "[encoded data removed]",
      "text/plain": [
       "<Figure size 432x288 with 1 Axes>"
      ]
     },
     "metadata": {
      "needs_background": "light"
     },
     "output_type": "display_data"
    },
    {
     "name": "stdout",
     "output_type": "stream",
     "text": [
      "이미지 반전 및 정규화 적용 : (28, 28)\n"
     ]
    }
   ],
   "source": [
    "#image file의 경로 설정\n",
    "cur_dir = os.getcwd()\n",
    "print(cur_dir)\n",
    "img_path = os.path.join(cur_dir, 'image_3.png')\n",
    "print(img_path)\n",
    "cur_img = Image.open(img_path) # 이미지 객체를 만들어줌\n",
    "\n",
    "# 28 * 28 resize\n",
    "cur_img = cur_img.resize((28,28))\n",
    "image = np.asarray(cur_img) # numpy array로 바꿔준다\n",
    "\n",
    "plt.imshow(image, cmap='gray')\n",
    "plt.show()\n",
    "print(f'처음 : {image.shape}')\n",
    "\n",
    "# color image일 경우 RGB의 평균값으로 gray scale로 적용\n",
    "try :\n",
    "    image = np.mean(image, axis=2)\n",
    "except :\n",
    "    pass\n",
    "\n",
    "plt.imshow(image, cmap='gray')\n",
    "plt.show()\n",
    "print(f'gray scale 적용 : {image.shape}')\n",
    "\n",
    "\n",
    "\n",
    "# upload한 image는 흰 배경에 검은 글시로 되어 있으므로 Mnist data와 같이 검은 배경 흰 글씨로 변경\n",
    "image = np.abs(255-image)\n",
    "\n",
    "# Mnist와 동일하게 data preprocessing (255로 나눠줌)\n",
    "image = image.astype(np.float32) / 255.0\n",
    "\n",
    "# 화면에 출력\n",
    "plt.imshow(image, cmap='gray')\n",
    "plt.show()\n",
    "print(f'이미지 반전 및 정규화 적용 : {image.shape}')"
   ]
  },
  {
   "cell_type": "code",
   "execution_count": 45,
   "id": "ed025596-9ed2-4eb4-8bba-5e0ff5f4fc0d",
   "metadata": {},
   "outputs": [
    {
     "name": "stdout",
     "output_type": "stream",
     "text": [
      "[[6.05086524e-14 5.16588883e-10 1.70422443e-09 9.99999523e-01\n",
      "  2.85836922e-15 5.10288260e-07 2.77406597e-13 2.91606664e-13\n",
      "  1.11588155e-10 1.95933994e-16]]\n",
      "model이 예측한 값은 [3] 입니다\n"
     ]
    }
   ],
   "source": [
    "# shape를 변경하여 학습된 model에 넣고 결과를 확인\n",
    "image = np.reshape(image, (1, 28, 28)) # 1장의 이미지, 픽셀 사이즈\n",
    "print(model.predict(image))\n",
    "print('model이 예측한 값은 {} 입니다'.format(np.argmax(model.predict(image), -1))) # -1은 값을 안 넣겠다와 동일하다(최대값 한 개만 뽑아라.)"
   ]
  },
  {
   "cell_type": "markdown",
   "id": "d2f63e37-c8d0-471a-ae0c-8abdcd9abe55",
   "metadata": {},
   "source": [
    "# Fashion Mnist"
   ]
  },
  {
   "cell_type": "code",
   "execution_count": 5,
   "id": "a589ab5e-08e9-49cf-8515-bbf10320067e",
   "metadata": {},
   "outputs": [],
   "source": [
    "# Dataset\n",
    "mnist = keras.datasets.fashion_mnist\n",
    "class_name = ['T-shart/top', 'Trouser', 'Pullover', 'Dress', 'Coat', 'Sandal', 'Shirt', 'Sneaker', 'Bag', 'Ankle boot']\n",
    "(train_images, train_labels), (test_images, test_labels) = mnist.load_data()"
   ]
  },
  {
   "cell_type": "code",
   "execution_count": 6,
   "id": "762c4d16-b9bb-4c4f-b4d4-8476cae1a595",
   "metadata": {},
   "outputs": [
    {
     "name": "stdout",
     "output_type": "stream",
     "text": [
      "(60000, 28, 28) (60000,)\n"
     ]
    }
   ],
   "source": [
    "print(train_images.shape, train_labels.shape)"
   ]
  },
  {
   "cell_type": "code",
   "execution_count": 7,
   "id": "83fce136-46b3-4606-9919-553e7def3b13",
   "metadata": {},
   "outputs": [
    {
     "name": "stdout",
     "output_type": "stream",
     "text": [
      "(10000, 28, 28) (10000,)\n"
     ]
    }
   ],
   "source": [
    "print(test_images.shape, test_labels.shape)"
   ]
  },
  {
   "cell_type": "code",
   "execution_count": 8,
   "id": "55f610bd-8ecb-4f94-872a-a87948b4d1f6",
   "metadata": {},
   "outputs": [
    {
     "data": {
      "text/plain": [
       "numpy.ndarray"
      ]
     },
     "execution_count": 8,
     "metadata": {},
     "output_type": "execute_result"
    }
   ],
   "source": [
    "type(train_images)"
   ]
  },
  {
   "cell_type": "code",
   "execution_count": 14,
   "id": "5ef44fe4-fbc6-4b5c-8792-dffe6dce7da1",
   "metadata": {},
   "outputs": [
    {
     "data": {
      "text/plain": [
       "{0: 6000,\n",
       " 1: 6000,\n",
       " 2: 6000,\n",
       " 3: 6000,\n",
       " 4: 6000,\n",
       " 5: 6000,\n",
       " 6: 6000,\n",
       " 7: 6000,\n",
       " 8: 6000,\n",
       " 9: 6000}"
      ]
     },
     "execution_count": 14,
     "metadata": {},
     "output_type": "execute_result"
    }
   ],
   "source": [
    "# Trainging set의 각 class별 image 수 확인\n",
    "unique, counts = np.unique(train_labels, axis=-1, return_counts=True)\n",
    "dict(zip(unique, counts))"
   ]
  },
  {
   "cell_type": "code",
   "execution_count": 15,
   "id": "5eb41088-ea61-4ccf-b75a-42750011c8d9",
   "metadata": {},
   "outputs": [
    {
     "data": {
      "text/plain": [
       "{0: 1000,\n",
       " 1: 1000,\n",
       " 2: 1000,\n",
       " 3: 1000,\n",
       " 4: 1000,\n",
       " 5: 1000,\n",
       " 6: 1000,\n",
       " 7: 1000,\n",
       " 8: 1000,\n",
       " 9: 1000}"
      ]
     },
     "execution_count": 15,
     "metadata": {},
     "output_type": "execute_result"
    }
   ],
   "source": [
    "# Test set의 각 class별 image 수 확인\n",
    "unique, counts = np.unique(test_labels, axis=-1, return_counts=True)\n",
    "dict(zip(unique, counts))"
   ]
  },
  {
   "cell_type": "code",
   "execution_count": 19,
   "id": "71634103-f6a8-4402-ad92-22a543401914",
   "metadata": {},
   "outputs": [
    {
     "data": {
      "image/png": "[encoded data removed]",
      "text/plain": [
       "<Figure size 576x576 with 9 Axes>"
      ]
     },
     "metadata": {},
     "output_type": "display_data"
    }
   ],
   "source": [
    "plt.figure(figsize=(8, 8))\n",
    "for i in range(9) :\n",
    "    plt.subplot(3, 3, i+1)\n",
    "    plt.grid(False)\n",
    "    plt.xticks([])\n",
    "    plt.yticks([])\n",
    "    plt.imshow(train_images[i], cmap='gray')\n",
    "    plt.title(class_name[train_labels[i]])\n",
    "plt.show()"
   ]
  },
  {
   "cell_type": "code",
   "execution_count": 20,
   "id": "8adff075-97e5-4586-95d8-aa69f92bd458",
   "metadata": {},
   "outputs": [],
   "source": [
    "# 데이터 전처리\n",
    "# image를 0~1 사이 값으로 만들기 위해 255로 나눔\n",
    "train_image = train_images.astype(np.float32) /255.0\n",
    "train_image = test_images.astype(np.float32) /255.0\n",
    "\n",
    "# one-hot Encoding\n",
    "train_labels = keras.utils.to_categorical(train_labels, 10)\n",
    "test_labels = keras.utils.to_categorical(test_labels, 10)"
   ]
  },
  {
   "cell_type": "code",
   "execution_count": 21,
   "id": "1ed23bf9-5336-4aa1-861d-ce2d2e6c0b65",
   "metadata": {},
   "outputs": [],
   "source": [
    "# Dataset 만들기\n",
    "# shuffle : 셔플을 하지 않으면 다음에 들어갈 데이터가 중복되어 들어갈 수 있음, epochs 할 때 shuffle을 사용\n",
    "# batch : 한번에 여러개 이미지를 넣어주는데 몇개씩 넣을 것인지 설정\n",
    "train_dataset = tf.data.Dataset.from_tensor_slices((train_images, train_labels)).shuffle(buffer_size=100000).batch(64)\n",
    "test_dataset=tf.data.Dataset.from_tensor_slices((test_images, test_labels)).batch(64)"
   ]
  },
  {
   "cell_type": "code",
   "execution_count": 23,
   "id": "a8dee9f5-20c0-4a45-846e-27a5b582002b",
   "metadata": {},
   "outputs": [
    {
     "name": "stdout",
     "output_type": "stream",
     "text": [
      "Feature batch shape : (64, 28, 28)\n",
      "Label batch shape : (64, 10)\n"
     ]
    },
    {
     "data": {
      "image/png": "[encoded data removed]",
      "text/plain": [
       "<Figure size 432x288 with 1 Axes>"
      ]
     },
     "metadata": {
      "needs_background": "light"
     },
     "output_type": "display_data"
    },
    {
     "name": "stdout",
     "output_type": "stream",
     "text": [
      "Label : [0. 0. 0. 0. 0. 0. 0. 0. 1. 0.]\n"
     ]
    }
   ],
   "source": [
    "# Dataset을 통해 반복(iterate)\n",
    "imgs, lbs = next(iter(train_dataset))\n",
    "print(f'Feature batch shape : {imgs.shape}')\n",
    "print(f'Label batch shape : {lbs.shape}')\n",
    "\n",
    "img = imgs[0]\n",
    "lb = lbs[0]\n",
    "plt.imshow(img, cmap='gray')\n",
    "plt.show()\n",
    "print(f'Label : {lb}')"
   ]
  },
  {
   "cell_type": "code",
   "execution_count": 37,
   "id": "c3dae882-6c7c-4143-ab61-42d1fb59af18",
   "metadata": {},
   "outputs": [
    {
     "name": "stdout",
     "output_type": "stream",
     "text": [
      "[0 1 2 3 4 5 6 7 8 9]\n",
      "--------------------------------------------------\n",
      "<TensorSliceDataset shapes: (), types: tf.int64>\n",
      "--------------------------------------------------\n",
      "tf.Tensor(0, shape=(), dtype=int64)\n",
      "tf.Tensor(1, shape=(), dtype=int64)\n",
      "tf.Tensor(2, shape=(), dtype=int64)\n",
      "tf.Tensor(3, shape=(), dtype=int64)\n",
      "tf.Tensor(4, shape=(), dtype=int64)\n",
      "tf.Tensor(5, shape=(), dtype=int64)\n",
      "tf.Tensor(6, shape=(), dtype=int64)\n",
      "tf.Tensor(7, shape=(), dtype=int64)\n",
      "tf.Tensor(8, shape=(), dtype=int64)\n",
      "tf.Tensor(9, shape=(), dtype=int64)\n"
     ]
    }
   ],
   "source": [
    "# Custom Dataset 만들기\n",
    "a = np.arange(10)\n",
    "print(a)\n",
    "print('-'*50)\n",
    "\n",
    "ds_tensor = tf.data.Dataset.from_tensor_slices(a)\n",
    "print(ds_tensor)\n",
    "print('-'*50)\n",
    "\n",
    "for x in ds_tensor :\n",
    "    print(x)"
   ]
  },
  {
   "cell_type": "code",
   "execution_count": 38,
   "id": "f797ed09-3b19-4914-9fbf-2e659a770caf",
   "metadata": {},
   "outputs": [
    {
     "name": "stdout",
     "output_type": "stream",
     "text": [
      "tf.Tensor([16  1], shape=(2,), dtype=int64)\n",
      "tf.Tensor([36  9], shape=(2,), dtype=int64)\n",
      "tf.Tensor([ 0 25], shape=(2,), dtype=int64)\n",
      "tf.Tensor([49  4], shape=(2,), dtype=int64)\n",
      "tf.Tensor([81 64], shape=(2,), dtype=int64)\n",
      "--------------------------------------------------\n",
      "tf.Tensor([1 4], shape=(2,), dtype=int64)\n",
      "tf.Tensor([36 16], shape=(2,), dtype=int64)\n",
      "tf.Tensor([49  0], shape=(2,), dtype=int64)\n",
      "tf.Tensor([81  9], shape=(2,), dtype=int64)\n",
      "tf.Tensor([64 25], shape=(2,), dtype=int64)\n",
      "--------------------------------------------------\n",
      "tf.Tensor([81  0], shape=(2,), dtype=int64)\n",
      "tf.Tensor([ 1 36], shape=(2,), dtype=int64)\n",
      "tf.Tensor([16 49], shape=(2,), dtype=int64)\n",
      "tf.Tensor([9 4], shape=(2,), dtype=int64)\n",
      "tf.Tensor([25 64], shape=(2,), dtype=int64)\n",
      "--------------------------------------------------\n"
     ]
    }
   ],
   "source": [
    "# shuffle(정수)  : 큐 사이즈 만큼 셔플. 10은 모두 셔플, 10보다 작으면 일부만 셔플\n",
    "ds_tensor = ds_tensor.map(tf.square).shuffle(10).batch(2)\n",
    "for _ in range(3) :\n",
    "    for x in ds_tensor :\n",
    "        print(x)\n",
    "    print('-'*50)"
   ]
  },
  {
   "cell_type": "code",
   "execution_count": null,
   "id": "7b1713e4-f415-4750-8932-656b21e3364a",
   "metadata": {},
   "outputs": [],
   "source": []
  }
 ],
 "metadata": {
  "kernelspec": {
   "display_name": "Python 3",
   "language": "python",
   "name": "python3"
  },
  "language_info": {
   "codemirror_mode": {
    "name": "ipython",
    "version": 3
   },
   "file_extension": ".py",
   "mimetype": "text/x-python",
   "name": "python",
   "nbconvert_exporter": "python",
   "pygments_lexer": "ipython3",
   "version": "3.9.7"
  }
 },
 "nbformat": 4,
 "nbformat_minor": 5
}
